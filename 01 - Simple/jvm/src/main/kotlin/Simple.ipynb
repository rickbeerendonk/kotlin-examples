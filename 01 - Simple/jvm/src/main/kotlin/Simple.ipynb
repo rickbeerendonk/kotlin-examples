{
 "cells": [
  {
   "cell_type": "markdown",
   "metadata": {},
   "source": [
    "# Simple demo\n",
    "\n",
    "This demonstrates using [println](https://kotlinlang.org/api/core/kotlin-stdlib/kotlin.io/println.html)\n",
    "and [readLine](https://kotlinlang.org/api/core/kotlin-stdlib/kotlin.io/read-line.html) in Kotlin."
   ]
  },
  {
   "cell_type": "code",
   "execution_count": null,
   "metadata": {},
   "outputs": [],
   "source": [
    "println(\"Hello Kotlin!\")\n",
    "\n",
    "println(\"What is your name?\")\n",
    "readLine(); // Returns a String? (nullable string)"
   ]
  },
  {
   "cell_type": "markdown",
   "metadata": {},
   "source": [
    "## References\n",
    "\n",
    "- [println](https://kotlinlang.org/api/core/kotlin-stdlib/kotlin.io/println.html)\n",
    "- [readLine](https://kotlinlang.org/api/core/kotlin-stdlib/kotlin.io/read-line.html)"
   ]
  }
 ],
 "metadata": {
  "kernelspec": {
   "display_name": "Kotlin",
   "language": "kotlin",
   "name": "kotlin"
  },
  "language_info": {
   "codemirror_mode": "text/x-kotlin",
   "file_extension": ".kt",
   "mimetype": "text/x-kotlin",
   "name": "kotlin",
   "nbconvert_exporter": "",
   "pygments_lexer": "kotlin",
   "version": "1.9.23"
  }
 },
 "nbformat": 4,
 "nbformat_minor": 0
}
